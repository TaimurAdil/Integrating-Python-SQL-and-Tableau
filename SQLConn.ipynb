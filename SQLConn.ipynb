{
 "cells": [
  {
   "cell_type": "code",
   "execution_count": 2,
   "id": "0129cd6a-f2e7-4d11-994a-f81ecf47775f",
   "metadata": {},
   "outputs": [
    {
     "name": "stderr",
     "output_type": "stream",
     "text": [
      "WARNING: Ignoring invalid distribution -cikit-learn (c:\\users\\taimuradil\\anaconda3\\lib\\site-packages)\n",
      "WARNING: Ignoring invalid distribution -cikit-learn (c:\\users\\taimuradil\\anaconda3\\lib\\site-packages)\n",
      "WARNING: Skipping psycopg2 as it is not installed.\n"
     ]
    },
    {
     "name": "stdout",
     "output_type": "stream",
     "text": [
      "Collecting psycopg2\n",
      "  Downloading psycopg2-2.9.4-cp39-cp39-win_amd64.whl (1.2 MB)\n",
      "Installing collected packages: psycopg2\n",
      "Successfully installed psycopg2-2.9.4\n"
     ]
    },
    {
     "name": "stderr",
     "output_type": "stream",
     "text": [
      "WARNING: Ignoring invalid distribution -cikit-learn (c:\\users\\taimuradil\\anaconda3\\lib\\site-packages)\n",
      "WARNING: Ignoring invalid distribution -cikit-learn (c:\\users\\taimuradil\\anaconda3\\lib\\site-packages)\n",
      "WARNING: Ignoring invalid distribution -cikit-learn (c:\\users\\taimuradil\\anaconda3\\lib\\site-packages)\n",
      "WARNING: Ignoring invalid distribution -cikit-learn (c:\\users\\taimuradil\\anaconda3\\lib\\site-packages)\n",
      "WARNING: Ignoring invalid distribution -cikit-learn (c:\\users\\taimuradil\\anaconda3\\lib\\site-packages)\n",
      "WARNING: Ignoring invalid distribution -cikit-learn (c:\\users\\taimuradil\\anaconda3\\lib\\site-packages)\n",
      "WARNING: Ignoring invalid distribution -cikit-learn (c:\\users\\taimuradil\\anaconda3\\lib\\site-packages)\n"
     ]
    }
   ],
   "source": [
    "!pip uninstall psycopg2\n",
    "!pip install psycopg2"
   ]
  },
  {
   "cell_type": "code",
   "execution_count": 30,
   "id": "b31db901-ce57-4b2e-9fde-8711bebc12b6",
   "metadata": {},
   "outputs": [],
   "source": [
    "import psycopg2\n",
    "\n",
    "from absenteeism_module import *\n",
    "import config"
   ]
  },
  {
   "cell_type": "code",
   "execution_count": 23,
   "id": "a75d1e3d-9aac-47f6-b16f-78d6c73de653",
   "metadata": {},
   "outputs": [],
   "source": [
    "conn = psycopg2.connect(user = config.DATABASE_CONFIG['user'],\n",
    "                        password = config.DATABASE_CONFIG['password'],\n",
    "                        host = config.DATABASE_CONFIG['host'],\n",
    "                        port = config.DATABASE_CONFIG['port'],\n",
    "                        database = config.DATABASE_CONFIG['dbname'])"
   ]
  },
  {
   "cell_type": "code",
   "execution_count": 43,
   "id": "960bfde4-1633-40ee-bc18-e1a8f07afff3",
   "metadata": {},
   "outputs": [
    {
     "ename": "ProgrammingError",
     "evalue": "set_session cannot be used inside a transaction",
     "output_type": "error",
     "traceback": [
      "\u001b[1;31m---------------------------------------------------------------------------\u001b[0m",
      "\u001b[1;31mProgrammingError\u001b[0m                          Traceback (most recent call last)",
      "Cell \u001b[1;32mIn [43], line 1\u001b[0m\n\u001b[1;32m----> 1\u001b[0m \u001b[43mconn\u001b[49m\u001b[38;5;241;43m.\u001b[39;49m\u001b[43mset_session\u001b[49m\u001b[43m(\u001b[49m\u001b[43mautocommit\u001b[49m\u001b[38;5;241;43m=\u001b[39;49m\u001b[38;5;28;43;01mTrue\u001b[39;49;00m\u001b[43m)\u001b[49m\n",
      "\u001b[1;31mProgrammingError\u001b[0m: set_session cannot be used inside a transaction"
     ]
    }
   ],
   "source": [
    "conn.set_session(autocommit=True)"
   ]
  },
  {
   "cell_type": "code",
   "execution_count": 24,
   "id": "cfe9712a-9975-4676-9006-04b7d0d6d6bc",
   "metadata": {},
   "outputs": [],
   "source": [
    "cur = conn.cursor()"
   ]
  },
  {
   "cell_type": "code",
   "execution_count": 26,
   "id": "d3387801-0fa5-43a3-90cd-11d2807e0f50",
   "metadata": {},
   "outputs": [
    {
     "name": "stdout",
     "output_type": "stream",
     "text": [
      "{'user': 'postgres', 'channel_binding': 'prefer', 'dbname': 'Absenteeism', 'host': '127.0.0.1', 'port': '5432', 'options': '', 'sslmode': 'prefer', 'sslcompression': '0', 'sslsni': '1', 'ssl_min_protocol_version': 'TLSv1.2', 'gssencmode': 'disable', 'krbsrvname': 'postgres', 'target_session_attrs': 'any'} \n",
      "\n"
     ]
    }
   ],
   "source": [
    "print (conn.get_dsn_parameters(),\"\\n\")"
   ]
  },
  {
   "cell_type": "code",
   "execution_count": null,
   "id": "50ceeee4-34ab-4931-a5b2-39e76a430fce",
   "metadata": {},
   "outputs": [],
   "source": [
    "# CREATE TABLE predicted_outputs\n",
    "# (\n",
    "# reason_1 BIT NOT NULL,\n",
    "# reason_2 BIT NOT NULL,\n",
    "# reason_3 BIT NOT NULL,\n",
    "# reason_4 BIT NOT NULL,\n",
    "# month_value INT NOT NULL,\n",
    "# transportation_expense INT NOT NULL,\n",
    "# age INT NOT NULL,\n",
    "# body_mass_index INT NOT NULL,\n",
    "# education BIT NOT NULL,\n",
    "# children INT NOT NULL,\n",
    "# pet INT NOT NULL,\n",
    "# probability FLOAT NOT NULL,\n",
    "# prediction BIT NOT NULL\n",
    "# )"
   ]
  },
  {
   "cell_type": "code",
   "execution_count": 28,
   "id": "1ba3febc-bbe2-41df-88cb-4d6813964584",
   "metadata": {},
   "outputs": [
    {
     "data": {
      "text/plain": [
       "[]"
      ]
     },
     "execution_count": 28,
     "metadata": {},
     "output_type": "execute_result"
    }
   ],
   "source": [
    "cur.execute(\"SELECT * FROM predicted_outputs\")\n",
    "\n",
    "cur.fetchall()"
   ]
  },
  {
   "cell_type": "code",
   "execution_count": 47,
   "id": "91813773-0d34-4fcb-9942-4952cd09f4d7",
   "metadata": {},
   "outputs": [
    {
     "name": "stdout",
     "output_type": "stream",
     "text": [
      "Index(['Month Value', 'Transportation Expense', 'Age', 'Body Mass Index',\n",
      "       'Children', 'Pet'],\n",
      "      dtype='object')\n"
     ]
    },
    {
     "name": "stderr",
     "output_type": "stream",
     "text": [
      "C:\\Users\\TaimurAdil\\anaconda3\\lib\\site-packages\\sklearn\\base.py:313: UserWarning: Trying to unpickle estimator LogisticRegression from version 0.19.1 when using version 0.22. This might lead to breaking code or invalid results. Use at your own risk.\n",
      "  warnings.warn(\n",
      "C:\\Users\\TaimurAdil\\anaconda3\\lib\\site-packages\\sklearn\\base.py:313: UserWarning: Trying to unpickle estimator StandardScaler from version 0.19.1 when using version 0.22. This might lead to breaking code or invalid results. Use at your own risk.\n",
      "  warnings.warn(\n"
     ]
    },
    {
     "data": {
      "text/html": [
       "<div>\n",
       "<style scoped>\n",
       "    .dataframe tbody tr th:only-of-type {\n",
       "        vertical-align: middle;\n",
       "    }\n",
       "\n",
       "    .dataframe tbody tr th {\n",
       "        vertical-align: top;\n",
       "    }\n",
       "\n",
       "    .dataframe thead th {\n",
       "        text-align: right;\n",
       "    }\n",
       "</style>\n",
       "<table border=\"1\" class=\"dataframe\">\n",
       "  <thead>\n",
       "    <tr style=\"text-align: right;\">\n",
       "      <th></th>\n",
       "      <th>Reason_1</th>\n",
       "      <th>Reason_2</th>\n",
       "      <th>Reason_3</th>\n",
       "      <th>Reason_4</th>\n",
       "      <th>Month Value</th>\n",
       "      <th>Transportation Expense</th>\n",
       "      <th>Age</th>\n",
       "      <th>Body Mass Index</th>\n",
       "      <th>Education</th>\n",
       "      <th>Children</th>\n",
       "      <th>Pet</th>\n",
       "      <th>Probability</th>\n",
       "      <th>Prediction</th>\n",
       "    </tr>\n",
       "  </thead>\n",
       "  <tbody>\n",
       "    <tr>\n",
       "      <th>0</th>\n",
       "      <td>0</td>\n",
       "      <td>0.0</td>\n",
       "      <td>0</td>\n",
       "      <td>1</td>\n",
       "      <td>6</td>\n",
       "      <td>179</td>\n",
       "      <td>30</td>\n",
       "      <td>19</td>\n",
       "      <td>1</td>\n",
       "      <td>0</td>\n",
       "      <td>0</td>\n",
       "      <td>0.122799</td>\n",
       "      <td>0</td>\n",
       "    </tr>\n",
       "    <tr>\n",
       "      <th>1</th>\n",
       "      <td>1</td>\n",
       "      <td>0.0</td>\n",
       "      <td>0</td>\n",
       "      <td>0</td>\n",
       "      <td>6</td>\n",
       "      <td>361</td>\n",
       "      <td>28</td>\n",
       "      <td>27</td>\n",
       "      <td>0</td>\n",
       "      <td>1</td>\n",
       "      <td>4</td>\n",
       "      <td>0.873392</td>\n",
       "      <td>1</td>\n",
       "    </tr>\n",
       "    <tr>\n",
       "      <th>2</th>\n",
       "      <td>0</td>\n",
       "      <td>0.0</td>\n",
       "      <td>0</td>\n",
       "      <td>1</td>\n",
       "      <td>6</td>\n",
       "      <td>155</td>\n",
       "      <td>34</td>\n",
       "      <td>25</td>\n",
       "      <td>0</td>\n",
       "      <td>2</td>\n",
       "      <td>0</td>\n",
       "      <td>0.268305</td>\n",
       "      <td>0</td>\n",
       "    </tr>\n",
       "    <tr>\n",
       "      <th>3</th>\n",
       "      <td>0</td>\n",
       "      <td>0.0</td>\n",
       "      <td>0</td>\n",
       "      <td>1</td>\n",
       "      <td>6</td>\n",
       "      <td>179</td>\n",
       "      <td>40</td>\n",
       "      <td>22</td>\n",
       "      <td>1</td>\n",
       "      <td>2</td>\n",
       "      <td>0</td>\n",
       "      <td>0.196385</td>\n",
       "      <td>0</td>\n",
       "    </tr>\n",
       "    <tr>\n",
       "      <th>4</th>\n",
       "      <td>1</td>\n",
       "      <td>0.0</td>\n",
       "      <td>0</td>\n",
       "      <td>0</td>\n",
       "      <td>6</td>\n",
       "      <td>155</td>\n",
       "      <td>34</td>\n",
       "      <td>25</td>\n",
       "      <td>0</td>\n",
       "      <td>2</td>\n",
       "      <td>0</td>\n",
       "      <td>0.723502</td>\n",
       "      <td>1</td>\n",
       "    </tr>\n",
       "  </tbody>\n",
       "</table>\n",
       "</div>"
      ],
      "text/plain": [
       "   Reason_1  Reason_2  Reason_3  Reason_4  Month Value  \\\n",
       "0         0       0.0         0         1            6   \n",
       "1         1       0.0         0         0            6   \n",
       "2         0       0.0         0         1            6   \n",
       "3         0       0.0         0         1            6   \n",
       "4         1       0.0         0         0            6   \n",
       "\n",
       "   Transportation Expense  Age  Body Mass Index  Education  Children  Pet  \\\n",
       "0                     179   30               19          1         0    0   \n",
       "1                     361   28               27          0         1    4   \n",
       "2                     155   34               25          0         2    0   \n",
       "3                     179   40               22          1         2    0   \n",
       "4                     155   34               25          0         2    0   \n",
       "\n",
       "   Probability  Prediction  \n",
       "0     0.122799           0  \n",
       "1     0.873392           1  \n",
       "2     0.268305           0  \n",
       "3     0.196385           0  \n",
       "4     0.723502           1  "
      ]
     },
     "execution_count": 47,
     "metadata": {},
     "output_type": "execute_result"
    }
   ],
   "source": [
    "preprocessed_data = pd.read_csv('Absenteeism_new_data.csv')\n",
    "preprocessed_data.head()\n",
    "model = absenteeism_model('model', 'scaler')\n",
    "model.load_and_clean_data('Absenteeism_new_data.csv')\n",
    "df_new_obs = model.predicted_outputs()\n",
    "\n",
    "df_new_obs.head()"
   ]
  },
  {
   "cell_type": "code",
   "execution_count": 48,
   "id": "c8901c0d-72f3-4547-83e3-aaa101edeac7",
   "metadata": {},
   "outputs": [
    {
     "data": {
      "text/plain": [
       "30"
      ]
     },
     "execution_count": 48,
     "metadata": {},
     "output_type": "execute_result"
    }
   ],
   "source": [
    "df_new_obs[df_new_obs.columns.values[6]][0]"
   ]
  },
  {
   "cell_type": "code",
   "execution_count": 53,
   "id": "90b4da74-8d5e-4374-bd7c-96e168590690",
   "metadata": {},
   "outputs": [
    {
     "data": {
      "text/plain": [
       "'INSERT INTO predicted_outputs VALUES (0::BIT, 0.0::BIT, 0::BIT, 1::BIT, 6, 179, 30, 19, 1::BIT, 0, 0, 0.12279926243494323, 0::BIT), (1::BIT, 0.0::BIT, 0::BIT, 0::BIT, 6, 361, 28, 27, 0::BIT, 1, 4, 0.8733923470447209, 1::BIT), (0::BIT, 0.0::BIT, 0::BIT, 1::BIT, 6, 155, 34, 25, 0::BIT, 2, 0, 0.2683049546034322, 0::BIT), (0::BIT, 0.0::BIT, 0::BIT, 1::BIT, 6, 179, 40, 22, 1::BIT, 2, 0, 0.1963853143922252, 0::BIT), (1::BIT, 0.0::BIT, 0::BIT, 0::BIT, 6, 155, 34, 25, 0::BIT, 2, 0, 0.7235017225544896, 1::BIT), (1::BIT, 0.0::BIT, 0::BIT, 0::BIT, 6, 225, 28, 24, 0::BIT, 1, 2, 0.7168905020985188, 1::BIT), (1::BIT, 0.0::BIT, 0::BIT, 0::BIT, 6, 118, 46, 25, 0::BIT, 2, 0, 0.5705238370679658, 1::BIT), (0::BIT, 0.0::BIT, 0::BIT, 1::BIT, 6, 179, 30, 19, 1::BIT, 0, 0, 0.12279926243494323, 0::BIT), (0::BIT, 0.0::BIT, 0::BIT, 1::BIT, 6, 118, 37, 28, 0::BIT, 0, 0, 0.13411805408968352, 0::BIT), (1::BIT, 0.0::BIT, 0::BIT, 0::BIT, 6, 118, 37, 28, 0::BIT, 0, 0, 0.5250065611752316, 1::BIT), (0::BIT, 0.0::BIT, 0::BIT, 1::BIT, 6, 378, 36, 21, 0::BIT, 2, 4, 0.4549980207286245, 0::BIT), (0::BIT, 0.0::BIT, 1::BIT, 0::BIT, 6, 118, 50, 31, 0::BIT, 1, 0, 0.6447416367376194, 1::BIT), (0::BIT, 0.0::BIT, 1::BIT, 0::BIT, 6, 233, 31, 21, 1::BIT, 1, 8, 0.35110766120784753, 0::BIT), (0::BIT, 0.0::BIT, 0::BIT, 1::BIT, 6, 179, 30, 19, 1::BIT, 0, 0, 0.12279926243494323, 0::BIT), (0::BIT, 0.0::BIT, 0::BIT, 0::BIT, 6, 235, 48, 33, 0::BIT, 1, 5, 0.09653346354354148, 0::BIT), (0::BIT, 0.0::BIT, 0::BIT, 0::BIT, 6, 268, 33, 25, 1::BIT, 0, 0, 0.1894785903905003, 0::BIT), (0::BIT, 0.0::BIT, 1::BIT, 0::BIT, 6, 118, 50, 31, 0::BIT, 1, 0, 0.6447416367376194, 1::BIT), (1::BIT, 0.0::BIT, 0::BIT, 0::BIT, 6, 179, 30, 19, 1::BIT, 0, 0, 0.49973827165859197, 0::BIT), (0::BIT, 0.0::BIT, 0::BIT, 1::BIT, 6, 291, 40, 25, 0::BIT, 1, 1, 0.38953149469289, 0::BIT), (1::BIT, 0.0::BIT, 0::BIT, 0::BIT, 7, 179, 30, 19, 1::BIT, 0, 0, 0.5001612226284466, 1::BIT), (0::BIT, 0.0::BIT, 0::BIT, 1::BIT, 7, 118, 37, 28, 0::BIT, 0, 0, 0.13431464561079212, 0::BIT), (0::BIT, 0.0::BIT, 0::BIT, 1::BIT, 7, 233, 31, 21, 1::BIT, 1, 8, 0.051366563789338106, 0::BIT), (1::BIT, 0.0::BIT, 0::BIT, 0::BIT, 7, 118, 37, 28, 0::BIT, 0, 0, 0.525428436293439, 1::BIT), (1::BIT, 0.0::BIT, 0::BIT, 0::BIT, 7, 118, 37, 28, 0::BIT, 0, 0, 0.525428436293439, 1::BIT), (0::BIT, 0.0::BIT, 0::BIT, 1::BIT, 7, 233, 31, 21, 1::BIT, 1, 8, 0.051366563789338106, 0::BIT), (0::BIT, 0.0::BIT, 0::BIT, 1::BIT, 7, 235, 43, 38, 0::BIT, 1, 0, 0.5123518738925141, 1::BIT), (0::BIT, 0.0::BIT, 1::BIT, 0::BIT, 7, 233, 31, 21, 1::BIT, 1, 8, 0.35149320375017246, 0::BIT), (1::BIT, 0.0::BIT, 0::BIT, 0::BIT, 7, 228, 58, 22, 0::BIT, 2, 1, 0.6333849402703989, 1::BIT), (0::BIT, 0.0::BIT, 0::BIT, 1::BIT, 7, 118, 37, 28, 0::BIT, 0, 0, 0.13431464561079212, 0::BIT), (1::BIT, 0.0::BIT, 0::BIT, 0::BIT, 7, 228, 58, 22, 0::BIT, 2, 1, 0.6333849402703989, 1::BIT), (0::BIT, 0.0::BIT, 0::BIT, 1::BIT, 7, 189, 33, 25, 0::BIT, 2, 2, 0.24494273576137351, 0::BIT), (0::BIT, 0.0::BIT, 0::BIT, 1::BIT, 7, 118, 37, 28, 0::BIT, 0, 0, 0.13431464561079212, 0::BIT), (0::BIT, 0.0::BIT, 0::BIT, 1::BIT, 7, 361, 28, 27, 0::BIT, 1, 4, 0.4919621401501115, 0::BIT), (0::BIT, 0.0::BIT, 0::BIT, 1::BIT, 7, 225, 28, 24, 0::BIT, 1, 2, 0.26224032774538253, 0::BIT), (1::BIT, 0.0::BIT, 0::BIT, 0::BIT, 7, 369, 31, 25, 0::BIT, 3, 0, 0.966560156232829, 1::BIT), (1::BIT, 0.0::BIT, 0::BIT, 0::BIT, 7, 289, 33, 30, 0::BIT, 2, 1, 0.9123989237228621, 1::BIT), (1::BIT, 0.0::BIT, 0::BIT, 0::BIT, 7, 235, 37, 29, 1::BIT, 1, 1, 0.7465975923060953, 1::BIT), (0::BIT, 0.0::BIT, 0::BIT, 0::BIT, 7, 118, 40, 34, 0::BIT, 1, 8, 0.0230895016874011, 0::BIT), (0::BIT, 0.0::BIT, 0::BIT, 0::BIT, 7, 231, 39, 35, 0::BIT, 2, 2, 0.2956474890457222, 0::BIT), (0::BIT, 0.0::BIT, 0::BIT, 0::BIT, 7, 179, 53, 25, 0::BIT, 1, 1, 0.07644956838010682, 0::BIT)'"
      ]
     },
     "execution_count": 53,
     "metadata": {},
     "output_type": "execute_result"
    }
   ],
   "source": [
    "insert_query = 'INSERT INTO predicted_outputs VALUES '\n",
    "\n",
    "for i in range(df_new_obs.shape[0]):\n",
    "    insert_query += '(' \n",
    "    \n",
    "    for j in range(df_new_obs.shape[1]):\n",
    "        if j in (0, 1, 2, 3, 8, 12):\n",
    "            insert_query += str(df_new_obs[df_new_obs.columns.values[j]][i]) + '::BIT, '\n",
    "        else:\n",
    "            insert_query += str(df_new_obs[df_new_obs.columns.values[j]][i]) + ', '\n",
    "    \n",
    "    insert_query = insert_query[:-2] + '), ' \n",
    "\n",
    "insert_query = insert_query[:-2]\n",
    "insert_query"
   ]
  },
  {
   "cell_type": "code",
   "execution_count": 55,
   "id": "1bfa7ec5-80d6-454e-b714-202997fe02c2",
   "metadata": {},
   "outputs": [],
   "source": [
    "conn.commit()\n",
    "cur.execute(insert_query)\n",
    "conn.commit()\n",
    "conn.close()"
   ]
  },
  {
   "cell_type": "code",
   "execution_count": null,
   "id": "4763fc24-6c58-4b48-8be8-00671702fba9",
   "metadata": {},
   "outputs": [],
   "source": []
  }
 ],
 "metadata": {
  "kernelspec": {
   "display_name": "Python 3 (ipykernel)",
   "language": "python",
   "name": "python3"
  },
  "language_info": {
   "codemirror_mode": {
    "name": "ipython",
    "version": 3
   },
   "file_extension": ".py",
   "mimetype": "text/x-python",
   "name": "python",
   "nbconvert_exporter": "python",
   "pygments_lexer": "ipython3",
   "version": "3.9.12"
  }
 },
 "nbformat": 4,
 "nbformat_minor": 5
}
